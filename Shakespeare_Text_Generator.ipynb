{
  "nbformat": 4,
  "nbformat_minor": 0,
  "metadata": {
    "colab": {
      "provenance": [],
      "gpuType": "T4",
      "authorship_tag": "ABX9TyOYwL/2AzHyk9WeX6dWWV4T",
      "include_colab_link": true
    },
    "kernelspec": {
      "name": "python3",
      "display_name": "Python 3"
    },
    "language_info": {
      "name": "python"
    },
    "accelerator": "GPU"
  },
  "cells": [
    {
      "cell_type": "markdown",
      "metadata": {
        "id": "view-in-github",
        "colab_type": "text"
      },
      "source": [
        "<a href=\"https://colab.research.google.com/github/rezamohamadlo/Shakespeare-Text-Generator/blob/main/Shakespeare_Text_Generator.ipynb\" target=\"_parent\"><img src=\"https://colab.research.google.com/assets/colab-badge.svg\" alt=\"Open In Colab\"/></a>"
      ]
    },
    {
      "cell_type": "code",
      "execution_count": 1,
      "metadata": {
        "id": "a8tPlz7l3qsq"
      },
      "outputs": [],
      "source": [
        "# Importing necessary libraries\n",
        "import numpy as np  # For numerical operations and handling arrays\n",
        "import matplotlib.pyplot as plt  # For plotting graphs and visualizations\n",
        "\n",
        "# Importing necessary modules from TensorFlow/Keras for building neural network models\n",
        "from tensorflow.keras.models import Sequential  # Sequential model to stack layers linearly\n",
        "from tensorflow.keras.utils import to_categorical  # For one-hot encoding labels for classification tasks\n",
        "\n",
        "# Importing tokenization and sequence padding utilities for text preprocessing\n",
        "from tensorflow.keras.preprocessing.text import Tokenizer  # Tokenizer to convert text to sequences of integers\n",
        "from tensorflow.keras.preprocessing.sequence import pad_sequences  # For padding sequences to ensure uniform input size\n",
        "\n",
        "# Importing different layers for building the model\n",
        "from tensorflow.keras.layers import Embedding  # Embedding layer to convert integer tokens to dense vectors of fixed size\n",
        "from tensorflow.keras.layers import LSTM  # LSTM layer (Long Short-Term Memory) for handling sequential data\n",
        "from tensorflow.keras.layers import Dense  # Dense (fully connected) layer for output or intermediate processing\n",
        "from tensorflow.keras.layers import Bidirectional  # Bidirectional wrapper for LSTM, processes inputs in both directions"
      ]
    },
    {
      "cell_type": "code",
      "source": [
        "# Downloading the 'sonnets.txt' file using gdown (Google Drive downloader)\n",
        "# The specific file is identified by its unique ID: 108jAePKK4R3BVYBbYJZ32JWUwxeMg20K\n",
        "# Make sure you have gdown installed in your environment: !pip install gdown\n",
        "!gdown --id 108jAePKK4R3BVYBbYJZ32JWUwxeMg20K\n"
      ],
      "metadata": {
        "colab": {
          "base_uri": "https://localhost:8080/"
        },
        "collapsed": true,
        "id": "tn-_C0SV3wZc",
        "outputId": "9ed1f80c-78e9-4bf7-954c-9ef8c0858ada"
      },
      "execution_count": 2,
      "outputs": [
        {
          "output_type": "stream",
          "name": "stdout",
          "text": [
            "/usr/local/lib/python3.10/dist-packages/gdown/__main__.py:132: FutureWarning: Option `--id` was deprecated in version 4.3.1 and will be removed in 5.0. You don't need to pass it anymore to use a file ID.\n",
            "  warnings.warn(\n",
            "Downloading...\n",
            "From: https://drive.google.com/uc?id=108jAePKK4R3BVYBbYJZ32JWUwxeMg20K\n",
            "To: /content/sonnets.txt\n",
            "100% 93.6k/93.6k [00:00<00:00, 64.0MB/s]\n"
          ]
        }
      ]
    },
    {
      "cell_type": "code",
      "source": [
        "# Define the path to the file containing the sonnets\n",
        "SONNETS_FILE = '/content/sonnets.txt'\n",
        "\n",
        "# Open the file in read mode and load its content into the variable 'data'\n",
        "with open('./sonnets.txt') as f:\n",
        "    data = f.read()\n",
        "\n",
        "# Convert all the text to lowercase and split it into individual lines using the newline character ('\\n')\n",
        "# The result is a list where each element corresponds to a line from the sonnets\n",
        "corpus = data.lower().split(\"\\n\")\n",
        "\n",
        "# Print the number of lines in the corpus\n",
        "print(f\"There are {len(corpus)} lines of sonnets\\n\")\n",
        "\n",
        "# Print the first 5 lines from the corpus to get a sense of what the data looks like\n",
        "print(f\"The first 5 lines look like this:\\n\")\n",
        "for i in range(5):\n",
        "    print(corpus[i])\n"
      ],
      "metadata": {
        "colab": {
          "base_uri": "https://localhost:8080/"
        },
        "collapsed": true,
        "id": "237rW4h_3yTp",
        "outputId": "de977ec6-9622-4c24-af1a-2c99b2c19e27"
      },
      "execution_count": 3,
      "outputs": [
        {
          "output_type": "stream",
          "name": "stdout",
          "text": [
            "There are 2159 lines of sonnets\n",
            "\n",
            "The first 5 lines look like this:\n",
            "\n",
            "from fairest creatures we desire increase,\n",
            "that thereby beauty's rose might never die,\n",
            "but as the riper should by time decease,\n",
            "his tender heir might bear his memory:\n",
            "but thou, contracted to thine own bright eyes,\n"
          ]
        }
      ]
    },
    {
      "cell_type": "code",
      "source": [
        "# Initialize the Tokenizer, which will be used to convert text to sequences of integers\n",
        "tokenizer = Tokenizer()\n",
        "\n",
        "# Fit the tokenizer on the corpus, which will create a dictionary mapping words to unique integer indices\n",
        "tokenizer.fit_on_texts(corpus)\n",
        "\n",
        "# Get the total number of unique words in the corpus by accessing the word index and adding 1\n",
        "# (the extra 1 is for padding or the reserved index for unknown tokens)\n",
        "total_words = len(tokenizer.word_index) + 1\n"
      ],
      "metadata": {
        "id": "7MfAAQ074FNU"
      },
      "execution_count": 4,
      "outputs": []
    },
    {
      "cell_type": "code",
      "source": [
        "corpus[0]\n"
      ],
      "metadata": {
        "colab": {
          "base_uri": "https://localhost:8080/",
          "height": 36
        },
        "id": "vXtFKeHI4Hxl",
        "outputId": "d3ce9055-5671-4d57-d7f3-c7e30853a2d4"
      },
      "execution_count": 5,
      "outputs": [
        {
          "output_type": "execute_result",
          "data": {
            "text/plain": [
              "'from fairest creatures we desire increase,'"
            ],
            "application/vnd.google.colaboratory.intrinsic+json": {
              "type": "string"
            }
          },
          "metadata": {},
          "execution_count": 5
        }
      ]
    },
    {
      "cell_type": "code",
      "source": [
        "# Convert the first line of the corpus (corpus[0]) into a sequence of integers\n",
        "# Each word is replaced by its corresponding index from the tokenizer's word index\n",
        "tokenizer.texts_to_sequences([corpus[0]])\n"
      ],
      "metadata": {
        "colab": {
          "base_uri": "https://localhost:8080/"
        },
        "id": "vdAazPHE4Hsi",
        "outputId": "239b103f-1559-4924-b07d-71907598ce92"
      },
      "execution_count": 6,
      "outputs": [
        {
          "output_type": "execute_result",
          "data": {
            "text/plain": [
              "[[34, 417, 877, 166, 213, 517]]"
            ]
          },
          "metadata": {},
          "execution_count": 6
        }
      ]
    },
    {
      "cell_type": "code",
      "source": [
        "# Convert the first line of the corpus (corpus[0]) into a sequence of integers\n",
        "# Access the first (and only) list from the result, which contains the tokenized integers\n",
        "tokenizer.texts_to_sequences([corpus[0]])[0]\n"
      ],
      "metadata": {
        "colab": {
          "base_uri": "https://localhost:8080/"
        },
        "id": "_0gN9I1k4HqF",
        "outputId": "b6f07fe6-d51a-481c-d1ef-417f0d06cf56"
      },
      "execution_count": 7,
      "outputs": [
        {
          "output_type": "execute_result",
          "data": {
            "text/plain": [
              "[34, 417, 877, 166, 213, 517]"
            ]
          },
          "metadata": {},
          "execution_count": 7
        }
      ]
    },
    {
      "cell_type": "code",
      "source": [
        "# Function to create n-gram sequences from the corpus\n",
        "def n_gram_seqs(corpus, tokenizer):\n",
        "    # Initialize an empty list to hold the input sequences\n",
        "    input_sequences = []\n",
        "\n",
        "    # Loop through each line in the corpus\n",
        "    for line in corpus:\n",
        "        # Convert the current line into a list of integer tokens\n",
        "        token_list = tokenizer.texts_to_sequences([line])[0]\n",
        "\n",
        "        # Loop through the token list to create n-gram sequences\n",
        "        # For each token list, take increasing slices of the sequence (from the first token to i+1 tokens)\n",
        "        for i in range(1, len(token_list)):\n",
        "            # Slice the token list to create an n-gram sequence\n",
        "            n_gram_sequence = token_list[:i+1]\n",
        "            # Append the n-gram sequence to the list of input sequences\n",
        "            input_sequences.append(n_gram_sequence)\n",
        "\n",
        "    # Return the list of all n-gram sequences generated from the corpus\n",
        "    return input_sequences\n"
      ],
      "metadata": {
        "id": "PKQj1OU94Hni"
      },
      "execution_count": 8,
      "outputs": []
    },
    {
      "cell_type": "code",
      "source": [
        "# Test the n_gram_seqs function with the first line of the corpus\n",
        "# Call the function with a list containing only the first line and the tokenizer\n",
        "first_example_sequence = n_gram_seqs([corpus[0]], tokenizer)\n",
        "\n",
        "# Print the resulting n-gram sequences for the first example\n",
        "print(\"n_gram sequences for first example look like this:\\n\")\n",
        "print(first_example_sequence)\n"
      ],
      "metadata": {
        "colab": {
          "base_uri": "https://localhost:8080/"
        },
        "id": "tY_XIZGL4HgU",
        "outputId": "9c9e4081-8b34-4fce-9617-5d8579e222ff"
      },
      "execution_count": 9,
      "outputs": [
        {
          "output_type": "stream",
          "name": "stdout",
          "text": [
            "n_gram sequences for first example look like this:\n",
            "\n",
            "[[34, 417], [34, 417, 877], [34, 417, 877, 166], [34, 417, 877, 166, 213], [34, 417, 877, 166, 213, 517]]\n"
          ]
        }
      ]
    },
    {
      "cell_type": "code",
      "source": [
        "# Test the n_gram_seqs function with a larger subset of the corpus\n",
        "# Call the function with a list containing lines 1 to 3 of the corpus and the tokenizer\n",
        "next_3_examples_sequence = n_gram_seqs(corpus[1:4], tokenizer)\n",
        "\n",
        "# Print the resulting n-gram sequences for the selected subset of the corpus\n",
        "print(\"n_gram sequences for next 3 examples look like this:\\n\")\n",
        "print(next_3_examples_sequence)\n"
      ],
      "metadata": {
        "colab": {
          "base_uri": "https://localhost:8080/"
        },
        "collapsed": true,
        "id": "-OhHUs2n4HeF",
        "outputId": "7c469d6f-7076-46cc-ab11-9e2b4dc4696d"
      },
      "execution_count": 10,
      "outputs": [
        {
          "output_type": "stream",
          "name": "stdout",
          "text": [
            "n_gram sequences for next 3 examples look like this:\n",
            "\n",
            "[[8, 878], [8, 878, 134], [8, 878, 134, 351], [8, 878, 134, 351, 102], [8, 878, 134, 351, 102, 156], [8, 878, 134, 351, 102, 156, 199], [16, 22], [16, 22, 2], [16, 22, 2, 879], [16, 22, 2, 879, 61], [16, 22, 2, 879, 61, 30], [16, 22, 2, 879, 61, 30, 48], [16, 22, 2, 879, 61, 30, 48, 634], [25, 311], [25, 311, 635], [25, 311, 635, 102], [25, 311, 635, 102, 200], [25, 311, 635, 102, 200, 25], [25, 311, 635, 102, 200, 25, 278]]\n"
          ]
        }
      ]
    },
    {
      "cell_type": "code",
      "source": [
        "# Apply the n_gram_seqs function to the entire corpus to generate n-gram sequences\n",
        "input_sequences = n_gram_seqs(corpus, tokenizer)\n",
        "\n",
        "# Compute the maximum length of the sequences in input_sequences\n",
        "# Find the length of each sequence and get the maximum value\n",
        "max_sequence_len = max([len(x) for x in input_sequences])\n",
        "\n",
        "# Print the number of n-gram sequences generated\n",
        "print(f\"n_grams of input_sequences have length: {len(input_sequences)}\")\n",
        "\n",
        "# Print the maximum length of the sequences\n",
        "print(f\"maximum length of sequences is: {max_sequence_len}\")\n"
      ],
      "metadata": {
        "colab": {
          "base_uri": "https://localhost:8080/"
        },
        "id": "2RmKur_u4Hbx",
        "outputId": "3a3c27d3-5869-4ca5-b345-fd4f39f1e669"
      },
      "execution_count": 11,
      "outputs": [
        {
          "output_type": "stream",
          "name": "stdout",
          "text": [
            "n_grams of input_sequences have length: 15462\n",
            "maximum length of sequences is: 11\n"
          ]
        }
      ]
    },
    {
      "cell_type": "code",
      "source": [
        "# Function to pad sequences to a specified maximum length\n",
        "def pad_seqs(input_sequences, maxlen):\n",
        "    # Use the pad_sequences function to pad sequences to the specified length\n",
        "    # Padding is done at the beginning of the sequences ('pre' padding)\n",
        "    padded_sequences = pad_sequences(input_sequences, maxlen=maxlen, padding='pre')\n",
        "\n",
        "    # Return the padded sequences\n",
        "    return padded_sequences\n",
        ""
      ],
      "metadata": {
        "id": "O8cS9WjJ4HZk"
      },
      "execution_count": 12,
      "outputs": []
    },
    {
      "cell_type": "code",
      "source": [
        "# Pad the n-gram sequences for the first example to the length of the number of sequences\n",
        "# This ensures all sequences have the same length\n",
        "first_padded_seq = pad_seqs(first_example_sequence, len(first_example_sequence))\n",
        "\n",
        "# Display the padded sequences for the first example\n",
        "first_padded_seq\n"
      ],
      "metadata": {
        "colab": {
          "base_uri": "https://localhost:8080/"
        },
        "id": "pg0Rwa4p4HXR",
        "outputId": "6a13375b-86a9-4a43-d561-5656457b91ea"
      },
      "execution_count": 13,
      "outputs": [
        {
          "output_type": "execute_result",
          "data": {
            "text/plain": [
              "array([[  0,   0,   0,  34, 417],\n",
              "       [  0,   0,  34, 417, 877],\n",
              "       [  0,  34, 417, 877, 166],\n",
              "       [ 34, 417, 877, 166, 213],\n",
              "       [417, 877, 166, 213, 517]], dtype=int32)"
            ]
          },
          "metadata": {},
          "execution_count": 13
        }
      ]
    },
    {
      "cell_type": "code",
      "source": [
        "# Pad the n-gram sequences for the next 3 examples to the maximum length of those sequences\n",
        "# Compute the maximum length of sequences in next_3_examples_sequence\n",
        "next_3_padded_seq = pad_seqs(next_3_examples_sequence, max([len(s) for s in next_3_examples_sequence]))\n",
        "\n",
        "# Display the padded sequences for the next 3 examples\n",
        "next_3_padded_seq\n"
      ],
      "metadata": {
        "colab": {
          "base_uri": "https://localhost:8080/"
        },
        "id": "bILb3o7v4HVA",
        "outputId": "913e6687-07c3-4693-c3a7-557296f8dbfa"
      },
      "execution_count": 14,
      "outputs": [
        {
          "output_type": "execute_result",
          "data": {
            "text/plain": [
              "array([[  0,   0,   0,   0,   0,   0,   8, 878],\n",
              "       [  0,   0,   0,   0,   0,   8, 878, 134],\n",
              "       [  0,   0,   0,   0,   8, 878, 134, 351],\n",
              "       [  0,   0,   0,   8, 878, 134, 351, 102],\n",
              "       [  0,   0,   8, 878, 134, 351, 102, 156],\n",
              "       [  0,   8, 878, 134, 351, 102, 156, 199],\n",
              "       [  0,   0,   0,   0,   0,   0,  16,  22],\n",
              "       [  0,   0,   0,   0,   0,  16,  22,   2],\n",
              "       [  0,   0,   0,   0,  16,  22,   2, 879],\n",
              "       [  0,   0,   0,  16,  22,   2, 879,  61],\n",
              "       [  0,   0,  16,  22,   2, 879,  61,  30],\n",
              "       [  0,  16,  22,   2, 879,  61,  30,  48],\n",
              "       [ 16,  22,   2, 879,  61,  30,  48, 634],\n",
              "       [  0,   0,   0,   0,   0,   0,  25, 311],\n",
              "       [  0,   0,   0,   0,   0,  25, 311, 635],\n",
              "       [  0,   0,   0,   0,  25, 311, 635, 102],\n",
              "       [  0,   0,   0,  25, 311, 635, 102, 200],\n",
              "       [  0,   0,  25, 311, 635, 102, 200,  25],\n",
              "       [  0,  25, 311, 635, 102, 200,  25, 278]], dtype=int32)"
            ]
          },
          "metadata": {},
          "execution_count": 14
        }
      ]
    },
    {
      "cell_type": "code",
      "source": [
        "# Pad all sequences in the corpus to the maximum sequence length\n",
        "# Use max_sequence_len as the padding length to ensure uniform sequence length across the entire corpus\n",
        "input_sequences = pad_seqs(input_sequences, max_sequence_len)\n",
        "\n",
        "# Print the shape of the padded corpus to verify dimensions\n",
        "print(f\"padded corpus has shape: {input_sequences.shape}\")\n"
      ],
      "metadata": {
        "colab": {
          "base_uri": "https://localhost:8080/"
        },
        "id": "8iEYq7NN45bg",
        "outputId": "b57309af-6174-46db-820e-b34095956e12"
      },
      "execution_count": 15,
      "outputs": [
        {
          "output_type": "stream",
          "name": "stdout",
          "text": [
            "padded corpus has shape: (15462, 11)\n"
          ]
        }
      ]
    },
    {
      "cell_type": "code",
      "source": [
        "# Function to split sequences into features and labels, and convert labels to one-hot encoding\n",
        "def features_and_labels(input_sequences, total_words):\n",
        "    # Extract features from the input_sequences by taking all but the last token of each sequence\n",
        "    features = input_sequences[:, :-1]\n",
        "\n",
        "    # Extract labels from the input_sequences by taking the last token of each sequence\n",
        "    labels = input_sequences[:, -1]\n",
        "\n",
        "    # Convert the labels to one-hot encoded vectors\n",
        "    # num_classes is set to total_words to match the size of the vocabulary\n",
        "    one_hot_labels = to_categorical(labels, num_classes=total_words)\n",
        "\n",
        "    # Return the features and one-hot encoded labels\n",
        "    return features, one_hot_labels\n"
      ],
      "metadata": {
        "id": "qBXqimmK45ZU"
      },
      "execution_count": 16,
      "outputs": []
    },
    {
      "cell_type": "code",
      "source": [
        "# Test the features_and_labels function with the padded n-gram sequences of the first example\n",
        "# Extract features and one-hot encoded labels from the padded sequences\n",
        "first_features, first_labels = features_and_labels(first_padded_seq, total_words)\n",
        "\n",
        "# Print the shape of the one-hot encoded labels to verify dimensions\n",
        "print(f\"labels have shape: {first_labels.shape}\")\n",
        "\n",
        "# Print the features to check their content\n",
        "print(\"\\nfeatures look like this:\\n\")\n",
        "first_features\n"
      ],
      "metadata": {
        "colab": {
          "base_uri": "https://localhost:8080/"
        },
        "id": "1WwhjbhB45XF",
        "outputId": "bfa62ccf-48c4-4fc5-c652-16e7e2eed597"
      },
      "execution_count": 17,
      "outputs": [
        {
          "output_type": "stream",
          "name": "stdout",
          "text": [
            "labels have shape: (5, 3211)\n",
            "\n",
            "features look like this:\n",
            "\n"
          ]
        },
        {
          "output_type": "execute_result",
          "data": {
            "text/plain": [
              "array([[  0,   0,   0,  34],\n",
              "       [  0,   0,  34, 417],\n",
              "       [  0,  34, 417, 877],\n",
              "       [ 34, 417, 877, 166],\n",
              "       [417, 877, 166, 213]], dtype=int32)"
            ]
          },
          "metadata": {},
          "execution_count": 17
        }
      ]
    },
    {
      "cell_type": "code",
      "source": [
        "# Apply the features_and_labels function to the entire padded corpus\n",
        "# Extract features and one-hot encoded labels from the padded sequences\n",
        "features, labels = features_and_labels(input_sequences, total_words)\n",
        "\n",
        "# Print the shape of the features to verify dimensions\n",
        "print(f\"features have shape: {features.shape}\")\n",
        "\n",
        "# Print the shape of the one-hot encoded labels to verify dimensions\n",
        "print(f\"labels have shape: {labels.shape}\")\n"
      ],
      "metadata": {
        "colab": {
          "base_uri": "https://localhost:8080/"
        },
        "id": "D_Z-nsD045Uk",
        "outputId": "c6808b69-16c7-40d4-80e1-3fc6d3ea9c95"
      },
      "execution_count": 18,
      "outputs": [
        {
          "output_type": "stream",
          "name": "stdout",
          "text": [
            "features have shape: (15462, 10)\n",
            "labels have shape: (15462, 3211)\n"
          ]
        }
      ]
    },
    {
      "cell_type": "code",
      "source": [
        "# Function to create and compile a neural network model for text prediction\n",
        "def create_model(total_words, max_sequence_len):\n",
        "    # Initialize a Sequential model\n",
        "    model = Sequential()\n",
        "\n",
        "    # Add an Embedding layer to convert word indices to dense vectors\n",
        "    # total_words is the size of the vocabulary\n",
        "    # 100 is the dimension of the dense vector for each word\n",
        "    # input_length is the length of the input sequences (max_sequence_len - 1 for features)\n",
        "    model.add(Embedding(total_words, 100, input_length=max_sequence_len-1))\n",
        "\n",
        "    # Add a Bidirectional LSTM layer to capture patterns in both forward and backward directions\n",
        "    # 150 is the number of units in the LSTM layer\n",
        "    model.add(Bidirectional(LSTM(150)))\n",
        "\n",
        "    # Add a Dense layer with softmax activation to output a probability distribution over the vocabulary\n",
        "    # total_words is the number of output units, one for each word in the vocabulary\n",
        "    model.add(Dense(total_words, activation='softmax'))\n",
        "\n",
        "    # Compile the model with categorical crossentropy loss and Adam optimizer\n",
        "    # Metrics to track during training is accuracy\n",
        "    model.compile(loss='categorical_crossentropy',\n",
        "                  optimizer='adam',\n",
        "                  metrics=['accuracy'])\n",
        "\n",
        "    # Return the compiled model\n",
        "    return model\n"
      ],
      "metadata": {
        "id": "W-wm858J45SB"
      },
      "execution_count": 19,
      "outputs": []
    },
    {
      "cell_type": "code",
      "source": [
        "# Create an untrained model using the create_model function\n",
        "# total_words is the size of the vocabulary, max_sequence_len is the length of input sequences\n",
        "model = create_model(total_words, max_sequence_len)\n",
        "\n",
        "# Train the model with the training data\n",
        "# features are the input sequences, labels are the one-hot encoded target labels\n",
        "# epochs specifies the number of times to iterate over the training data\n",
        "# verbose=1 provides detailed logging of the training process\n",
        "history = model.fit(features, labels, epochs=50, verbose=1)\n"
      ],
      "metadata": {
        "colab": {
          "base_uri": "https://localhost:8080/"
        },
        "id": "Hefp47zb45Pf",
        "outputId": "aac0d8b8-a01e-493c-b1ab-1961555ae1c1"
      },
      "execution_count": 20,
      "outputs": [
        {
          "output_type": "stream",
          "name": "stderr",
          "text": [
            "/usr/local/lib/python3.10/dist-packages/keras/src/layers/core/embedding.py:90: UserWarning: Argument `input_length` is deprecated. Just remove it.\n",
            "  warnings.warn(\n"
          ]
        },
        {
          "output_type": "stream",
          "name": "stdout",
          "text": [
            "Epoch 1/50\n",
            "\u001b[1m484/484\u001b[0m \u001b[32m━━━━━━━━━━━━━━━━━━━━\u001b[0m\u001b[37m\u001b[0m \u001b[1m13s\u001b[0m 7ms/step - accuracy: 0.0215 - loss: 7.0669\n",
            "Epoch 2/50\n",
            "\u001b[1m484/484\u001b[0m \u001b[32m━━━━━━━━━━━━━━━━━━━━\u001b[0m\u001b[37m\u001b[0m \u001b[1m9s\u001b[0m 9ms/step - accuracy: 0.0302 - loss: 6.4101\n",
            "Epoch 3/50\n",
            "\u001b[1m484/484\u001b[0m \u001b[32m━━━━━━━━━━━━━━━━━━━━\u001b[0m\u001b[37m\u001b[0m \u001b[1m3s\u001b[0m 7ms/step - accuracy: 0.0397 - loss: 6.1881\n",
            "Epoch 4/50\n",
            "\u001b[1m484/484\u001b[0m \u001b[32m━━━━━━━━━━━━━━━━━━━━\u001b[0m\u001b[37m\u001b[0m \u001b[1m3s\u001b[0m 7ms/step - accuracy: 0.0531 - loss: 5.8953\n",
            "Epoch 5/50\n",
            "\u001b[1m484/484\u001b[0m \u001b[32m━━━━━━━━━━━━━━━━━━━━\u001b[0m\u001b[37m\u001b[0m \u001b[1m4s\u001b[0m 9ms/step - accuracy: 0.0590 - loss: 5.6050\n",
            "Epoch 6/50\n",
            "\u001b[1m484/484\u001b[0m \u001b[32m━━━━━━━━━━━━━━━━━━━━\u001b[0m\u001b[37m\u001b[0m \u001b[1m3s\u001b[0m 7ms/step - accuracy: 0.0790 - loss: 5.2389\n",
            "Epoch 7/50\n",
            "\u001b[1m484/484\u001b[0m \u001b[32m━━━━━━━━━━━━━━━━━━━━\u001b[0m\u001b[37m\u001b[0m \u001b[1m5s\u001b[0m 8ms/step - accuracy: 0.0931 - loss: 4.8910\n",
            "Epoch 8/50\n",
            "\u001b[1m484/484\u001b[0m \u001b[32m━━━━━━━━━━━━━━━━━━━━\u001b[0m\u001b[37m\u001b[0m \u001b[1m4s\u001b[0m 9ms/step - accuracy: 0.1357 - loss: 4.4860\n",
            "Epoch 9/50\n",
            "\u001b[1m484/484\u001b[0m \u001b[32m━━━━━━━━━━━━━━━━━━━━\u001b[0m\u001b[37m\u001b[0m \u001b[1m3s\u001b[0m 7ms/step - accuracy: 0.1836 - loss: 4.0999\n",
            "Epoch 10/50\n",
            "\u001b[1m484/484\u001b[0m \u001b[32m━━━━━━━━━━━━━━━━━━━━\u001b[0m\u001b[37m\u001b[0m \u001b[1m3s\u001b[0m 7ms/step - accuracy: 0.2452 - loss: 3.7416\n",
            "Epoch 11/50\n",
            "\u001b[1m484/484\u001b[0m \u001b[32m━━━━━━━━━━━━━━━━━━━━\u001b[0m\u001b[37m\u001b[0m \u001b[1m4s\u001b[0m 9ms/step - accuracy: 0.3080 - loss: 3.4061\n",
            "Epoch 12/50\n",
            "\u001b[1m484/484\u001b[0m \u001b[32m━━━━━━━━━━━━━━━━━━━━\u001b[0m\u001b[37m\u001b[0m \u001b[1m4s\u001b[0m 7ms/step - accuracy: 0.3679 - loss: 3.0803\n",
            "Epoch 13/50\n",
            "\u001b[1m484/484\u001b[0m \u001b[32m━━━━━━━━━━━━━━━━━━━━\u001b[0m\u001b[37m\u001b[0m \u001b[1m3s\u001b[0m 7ms/step - accuracy: 0.4220 - loss: 2.8113\n",
            "Epoch 14/50\n",
            "\u001b[1m484/484\u001b[0m \u001b[32m━━━━━━━━━━━━━━━━━━━━\u001b[0m\u001b[37m\u001b[0m \u001b[1m4s\u001b[0m 9ms/step - accuracy: 0.4850 - loss: 2.5254\n",
            "Epoch 15/50\n",
            "\u001b[1m484/484\u001b[0m \u001b[32m━━━━━━━━━━━━━━━━━━━━\u001b[0m\u001b[37m\u001b[0m \u001b[1m4s\u001b[0m 7ms/step - accuracy: 0.5370 - loss: 2.2728\n",
            "Epoch 16/50\n",
            "\u001b[1m484/484\u001b[0m \u001b[32m━━━━━━━━━━━━━━━━━━━━\u001b[0m\u001b[37m\u001b[0m \u001b[1m5s\u001b[0m 7ms/step - accuracy: 0.5786 - loss: 2.0793\n",
            "Epoch 17/50\n",
            "\u001b[1m484/484\u001b[0m \u001b[32m━━━━━━━━━━━━━━━━━━━━\u001b[0m\u001b[37m\u001b[0m \u001b[1m5s\u001b[0m 7ms/step - accuracy: 0.6207 - loss: 1.8827\n",
            "Epoch 18/50\n",
            "\u001b[1m484/484\u001b[0m \u001b[32m━━━━━━━━━━━━━━━━━━━━\u001b[0m\u001b[37m\u001b[0m \u001b[1m3s\u001b[0m 7ms/step - accuracy: 0.6499 - loss: 1.7485\n",
            "Epoch 19/50\n",
            "\u001b[1m484/484\u001b[0m \u001b[32m━━━━━━━━━━━━━━━━━━━━\u001b[0m\u001b[37m\u001b[0m \u001b[1m4s\u001b[0m 8ms/step - accuracy: 0.6882 - loss: 1.5629\n",
            "Epoch 20/50\n",
            "\u001b[1m484/484\u001b[0m \u001b[32m━━━━━━━━━━━━━━━━━━━━\u001b[0m\u001b[37m\u001b[0m \u001b[1m5s\u001b[0m 7ms/step - accuracy: 0.7085 - loss: 1.4645\n",
            "Epoch 21/50\n",
            "\u001b[1m484/484\u001b[0m \u001b[32m━━━━━━━━━━━━━━━━━━━━\u001b[0m\u001b[37m\u001b[0m \u001b[1m3s\u001b[0m 7ms/step - accuracy: 0.7382 - loss: 1.3163\n",
            "Epoch 22/50\n",
            "\u001b[1m484/484\u001b[0m \u001b[32m━━━━━━━━━━━━━━━━━━━━\u001b[0m\u001b[37m\u001b[0m \u001b[1m6s\u001b[0m 9ms/step - accuracy: 0.7599 - loss: 1.2071\n",
            "Epoch 23/50\n",
            "\u001b[1m484/484\u001b[0m \u001b[32m━━━━━━━━━━━━━━━━━━━━\u001b[0m\u001b[37m\u001b[0m \u001b[1m4s\u001b[0m 7ms/step - accuracy: 0.7766 - loss: 1.1198\n",
            "Epoch 24/50\n",
            "\u001b[1m484/484\u001b[0m \u001b[32m━━━━━━━━━━━━━━━━━━━━\u001b[0m\u001b[37m\u001b[0m \u001b[1m5s\u001b[0m 8ms/step - accuracy: 0.7957 - loss: 1.0370\n",
            "Epoch 25/50\n",
            "\u001b[1m484/484\u001b[0m \u001b[32m━━━━━━━━━━━━━━━━━━━━\u001b[0m\u001b[37m\u001b[0m \u001b[1m5s\u001b[0m 7ms/step - accuracy: 0.7994 - loss: 0.9768\n",
            "Epoch 26/50\n",
            "\u001b[1m484/484\u001b[0m \u001b[32m━━━━━━━━━━━━━━━━━━━━\u001b[0m\u001b[37m\u001b[0m \u001b[1m5s\u001b[0m 7ms/step - accuracy: 0.8143 - loss: 0.8998\n",
            "Epoch 27/50\n",
            "\u001b[1m484/484\u001b[0m \u001b[32m━━━━━━━━━━━━━━━━━━━━\u001b[0m\u001b[37m\u001b[0m \u001b[1m6s\u001b[0m 8ms/step - accuracy: 0.8286 - loss: 0.8407\n",
            "Epoch 28/50\n",
            "\u001b[1m484/484\u001b[0m \u001b[32m━━━━━━━━━━━━━━━━━━━━\u001b[0m\u001b[37m\u001b[0m \u001b[1m5s\u001b[0m 7ms/step - accuracy: 0.8297 - loss: 0.8099\n",
            "Epoch 29/50\n",
            "\u001b[1m484/484\u001b[0m \u001b[32m━━━━━━━━━━━━━━━━━━━━\u001b[0m\u001b[37m\u001b[0m \u001b[1m6s\u001b[0m 9ms/step - accuracy: 0.8335 - loss: 0.7607\n",
            "Epoch 30/50\n",
            "\u001b[1m484/484\u001b[0m \u001b[32m━━━━━━━━━━━━━━━━━━━━\u001b[0m\u001b[37m\u001b[0m \u001b[1m3s\u001b[0m 7ms/step - accuracy: 0.8384 - loss: 0.7293\n",
            "Epoch 31/50\n",
            "\u001b[1m484/484\u001b[0m \u001b[32m━━━━━━━━━━━━━━━━━━━━\u001b[0m\u001b[37m\u001b[0m \u001b[1m5s\u001b[0m 7ms/step - accuracy: 0.8447 - loss: 0.7056\n",
            "Epoch 32/50\n",
            "\u001b[1m484/484\u001b[0m \u001b[32m━━━━━━━━━━━━━━━━━━━━\u001b[0m\u001b[37m\u001b[0m \u001b[1m5s\u001b[0m 7ms/step - accuracy: 0.8441 - loss: 0.6897\n",
            "Epoch 33/50\n",
            "\u001b[1m484/484\u001b[0m \u001b[32m━━━━━━━━━━━━━━━━━━━━\u001b[0m\u001b[37m\u001b[0m \u001b[1m3s\u001b[0m 7ms/step - accuracy: 0.8461 - loss: 0.6616\n",
            "Epoch 34/50\n",
            "\u001b[1m484/484\u001b[0m \u001b[32m━━━━━━━━━━━━━━━━━━━━\u001b[0m\u001b[37m\u001b[0m \u001b[1m3s\u001b[0m 7ms/step - accuracy: 0.8493 - loss: 0.6432\n",
            "Epoch 35/50\n",
            "\u001b[1m484/484\u001b[0m \u001b[32m━━━━━━━━━━━━━━━━━━━━\u001b[0m\u001b[37m\u001b[0m \u001b[1m5s\u001b[0m 7ms/step - accuracy: 0.8485 - loss: 0.6305\n",
            "Epoch 36/50\n",
            "\u001b[1m484/484\u001b[0m \u001b[32m━━━━━━━━━━━━━━━━━━━━\u001b[0m\u001b[37m\u001b[0m \u001b[1m5s\u001b[0m 7ms/step - accuracy: 0.8561 - loss: 0.5917\n",
            "Epoch 37/50\n",
            "\u001b[1m484/484\u001b[0m \u001b[32m━━━━━━━━━━━━━━━━━━━━\u001b[0m\u001b[37m\u001b[0m \u001b[1m6s\u001b[0m 8ms/step - accuracy: 0.8545 - loss: 0.6028\n",
            "Epoch 38/50\n",
            "\u001b[1m484/484\u001b[0m \u001b[32m━━━━━━━━━━━━━━━━━━━━\u001b[0m\u001b[37m\u001b[0m \u001b[1m4s\u001b[0m 7ms/step - accuracy: 0.8586 - loss: 0.5721\n",
            "Epoch 39/50\n",
            "\u001b[1m484/484\u001b[0m \u001b[32m━━━━━━━━━━━━━━━━━━━━\u001b[0m\u001b[37m\u001b[0m \u001b[1m6s\u001b[0m 9ms/step - accuracy: 0.8552 - loss: 0.5783\n",
            "Epoch 40/50\n",
            "\u001b[1m484/484\u001b[0m \u001b[32m━━━━━━━━━━━━━━━━━━━━\u001b[0m\u001b[37m\u001b[0m \u001b[1m3s\u001b[0m 7ms/step - accuracy: 0.8500 - loss: 0.5947\n",
            "Epoch 41/50\n",
            "\u001b[1m484/484\u001b[0m \u001b[32m━━━━━━━━━━━━━━━━━━━━\u001b[0m\u001b[37m\u001b[0m \u001b[1m3s\u001b[0m 7ms/step - accuracy: 0.8546 - loss: 0.5692\n",
            "Epoch 42/50\n",
            "\u001b[1m484/484\u001b[0m \u001b[32m━━━━━━━━━━━━━━━━━━━━\u001b[0m\u001b[37m\u001b[0m \u001b[1m4s\u001b[0m 8ms/step - accuracy: 0.8537 - loss: 0.5779\n",
            "Epoch 43/50\n",
            "\u001b[1m484/484\u001b[0m \u001b[32m━━━━━━━━━━━━━━━━━━━━\u001b[0m\u001b[37m\u001b[0m \u001b[1m5s\u001b[0m 7ms/step - accuracy: 0.8551 - loss: 0.5594\n",
            "Epoch 44/50\n",
            "\u001b[1m484/484\u001b[0m \u001b[32m━━━━━━━━━━━━━━━━━━━━\u001b[0m\u001b[37m\u001b[0m \u001b[1m3s\u001b[0m 7ms/step - accuracy: 0.8594 - loss: 0.5345\n",
            "Epoch 45/50\n",
            "\u001b[1m484/484\u001b[0m \u001b[32m━━━━━━━━━━━━━━━━━━━━\u001b[0m\u001b[37m\u001b[0m \u001b[1m6s\u001b[0m 9ms/step - accuracy: 0.8557 - loss: 0.5450\n",
            "Epoch 46/50\n",
            "\u001b[1m484/484\u001b[0m \u001b[32m━━━━━━━━━━━━━━━━━━━━\u001b[0m\u001b[37m\u001b[0m \u001b[1m4s\u001b[0m 7ms/step - accuracy: 0.8539 - loss: 0.5501\n",
            "Epoch 47/50\n",
            "\u001b[1m484/484\u001b[0m \u001b[32m━━━━━━━━━━━━━━━━━━━━\u001b[0m\u001b[37m\u001b[0m \u001b[1m3s\u001b[0m 7ms/step - accuracy: 0.8504 - loss: 0.5561\n",
            "Epoch 48/50\n",
            "\u001b[1m484/484\u001b[0m \u001b[32m━━━━━━━━━━━━━━━━━━━━\u001b[0m\u001b[37m\u001b[0m \u001b[1m6s\u001b[0m 8ms/step - accuracy: 0.8586 - loss: 0.5321\n",
            "Epoch 49/50\n",
            "\u001b[1m484/484\u001b[0m \u001b[32m━━━━━━━━━━━━━━━━━━━━\u001b[0m\u001b[37m\u001b[0m \u001b[1m3s\u001b[0m 7ms/step - accuracy: 0.8584 - loss: 0.5249\n",
            "Epoch 50/50\n",
            "\u001b[1m484/484\u001b[0m \u001b[32m━━━━━━━━━━━━━━━━━━━━\u001b[0m\u001b[37m\u001b[0m \u001b[1m6s\u001b[0m 8ms/step - accuracy: 0.8527 - loss: 0.5350\n"
          ]
        }
      ]
    },
    {
      "cell_type": "code",
      "source": [
        "# Retrieve the training accuracy and loss from the training history\n",
        "acc = history.history['accuracy']\n",
        "loss = history.history['loss']\n",
        "\n",
        "# Create a range of epoch numbers for plotting\n",
        "epochs = range(len(acc))\n",
        "\n",
        "# Plot the training accuracy\n",
        "plt.plot(epochs, acc, 'b', label='Training accuracy')\n",
        "plt.title('Training accuracy')\n",
        "plt.xlabel('Epochs')\n",
        "plt.ylabel('Accuracy')\n",
        "plt.legend()\n",
        "\n",
        "# Create a new figure for the loss plot\n",
        "plt.figure()\n",
        "\n",
        "# Plot the training loss\n",
        "plt.plot(epochs, loss, 'b', label='Training Loss')\n",
        "plt.title('Training loss')\n",
        "plt.xlabel('Epochs')\n",
        "plt.ylabel('Loss')\n",
        "plt.legend()\n",
        "\n",
        "# Display the plots\n",
        "plt.show()\n"
      ],
      "metadata": {
        "colab": {
          "base_uri": "https://localhost:8080/",
          "height": 927
        },
        "id": "b-pBZREp45Mw",
        "outputId": "600afdab-2d36-44dd-c68f-d5ab34fc396f"
      },
      "execution_count": 21,
      "outputs": [
        {
          "output_type": "display_data",
          "data": {
            "text/plain": [
              "<Figure size 640x480 with 1 Axes>"
            ],
            "image/png": "[encoded data removed]"
          },
          "metadata": {}
        },
        {
          "output_type": "display_data",
          "data": {
            "text/plain": [
              "<Figure size 640x480 with 1 Axes>"
            ],
            "image/png": "[encoded data removed]"
          },
          "metadata": {}
        }
      ]
    },
    {
      "cell_type": "code",
      "source": [
        "def download_history():\n",
        "    import pickle\n",
        "    from google.colab import files\n",
        "\n",
        "    # Save the training history to a pickle file\n",
        "    # 'history.history' contains the training metrics (accuracy, loss) from the model\n",
        "    with open('history.pkl', 'wb') as f:\n",
        "        pickle.dump(history.history, f)\n",
        "\n",
        "    # Download the pickle file to the local machine\n",
        "    files.download('history.pkl')\n",
        "\n",
        "# Call the function to execute the download\n",
        "download_history()\n"
      ],
      "metadata": {
        "colab": {
          "base_uri": "https://localhost:8080/",
          "height": 17
        },
        "id": "mBuHW8yS45KP",
        "outputId": "363386e1-5435-4344-ddbf-9ccdad209207"
      },
      "execution_count": 22,
      "outputs": [
        {
          "output_type": "display_data",
          "data": {
            "text/plain": [
              "<IPython.core.display.Javascript object>"
            ],
            "application/javascript": [
              "\n",
              "    async function download(id, filename, size) {\n",
              "      if (!google.colab.kernel.accessAllowed) {\n",
              "        return;\n",
              "      }\n",
              "      const div = document.createElement('div');\n",
              "      const label = document.createElement('label');\n",
              "      label.textContent = `Downloading \"${filename}\": `;\n",
              "      div.appendChild(label);\n",
              "      const progress = document.createElement('progress');\n",
              "      progress.max = size;\n",
              "      div.appendChild(progress);\n",
              "      document.body.appendChild(div);\n",
              "\n",
              "      const buffers = [];\n",
              "      let downloaded = 0;\n",
              "\n",
              "      const channel = await google.colab.kernel.comms.open(id);\n",
              "      // Send a message to notify the kernel that we're ready.\n",
              "      channel.send({})\n",
              "\n",
              "      for await (const message of channel.messages) {\n",
              "        // Send a message to notify the kernel that we're ready.\n",
              "        channel.send({})\n",
              "        if (message.buffers) {\n",
              "          for (const buffer of message.buffers) {\n",
              "            buffers.push(buffer);\n",
              "            downloaded += buffer.byteLength;\n",
              "            progress.value = downloaded;\n",
              "          }\n",
              "        }\n",
              "      }\n",
              "      const blob = new Blob(buffers, {type: 'application/binary'});\n",
              "      const a = document.createElement('a');\n",
              "      a.href = window.URL.createObjectURL(blob);\n",
              "      a.download = filename;\n",
              "      div.appendChild(a);\n",
              "      a.click();\n",
              "      div.remove();\n",
              "    }\n",
              "  "
            ]
          },
          "metadata": {}
        },
        {
          "output_type": "display_data",
          "data": {
            "text/plain": [
              "<IPython.core.display.Javascript object>"
            ],
            "application/javascript": [
              "download(\"download_13a5adfa-d492-4499-a586-732461d105f5\", \"history.pkl\", 942)"
            ]
          },
          "metadata": {}
        }
      ]
    },
    {
      "cell_type": "code",
      "source": [
        "# Define the seed text and the number of words to generate\n",
        "seed_text = \"Help me Obi Wan Kenobi, you're my only hope\"\n",
        "next_words = 100\n",
        "\n",
        "# Generate the next_words based on the seed text\n",
        "for _ in range(next_words):\n",
        "    # Convert the seed text into a sequence of integers\n",
        "    token_list = tokenizer.texts_to_sequences([seed_text])[0]\n",
        "    # Pad the sequence to the required input length for the model\n",
        "    token_list = pad_sequences([token_list], maxlen=max_sequence_len-1, padding='pre')\n",
        "    # Predict the probabilities of the next word\n",
        "    predicted = model.predict(token_list, verbose=0)\n",
        "    # Choose the word with the highest probability\n",
        "    predicted = np.argmax(predicted, axis=-1).item()\n",
        "    # Get the actual word from the tokenizer's word index\n",
        "    output_word = tokenizer.index_word[predicted]\n",
        "    # Append the predicted word to the seed text\n",
        "    seed_text += \" \" + output_word\n",
        "\n",
        "# Print the generated text\n",
        "print(seed_text)\n"
      ],
      "metadata": {
        "colab": {
          "base_uri": "https://localhost:8080/"
        },
        "id": "KDHFZsQp45Fi",
        "outputId": "67909449-9698-40a6-88ca-56b17e8e95cf"
      },
      "execution_count": 23,
      "outputs": [
        {
          "output_type": "stream",
          "name": "stdout",
          "text": [
            "Help me Obi Wan Kenobi, you're my only hope and far distill'd kind of enough 'fore ' taught to thence ' thence doth stand thence i grew thee 'will' to dote it return long rare away to me thence divide ' accents cannot be or me those more can see thee life's comes they not thence thy head ' ' doth catch my way ' ' ' prove you have faculty from thee bring well of thee more bad more true more bright of sepulchres falsehood are bail corrupting mother's 'will' cold nurse divide impression swear against sunset thence from thee bring done not thence it return yourself than\n"
          ]
        }
      ]
    }
  ]
}